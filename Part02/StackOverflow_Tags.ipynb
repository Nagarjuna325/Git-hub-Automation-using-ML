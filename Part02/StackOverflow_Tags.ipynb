{
 "cells": [
  {
   "cell_type": "markdown",
   "metadata": {},
   "source": [
    "<div class=\"alert alert-block alert-success\">\n",
    "    \n",
    "    \n",
    "# <center> Stackoverflow </center>\n",
    "## <center>  Tags for  </center>\n",
    "### <center>   Questions and Answers </center>\n",
    "\n",
    "\n",
    "<br>\n",
    "    \n",
    "</div>"
   ]
  },
  {
   "cell_type": "markdown",
   "metadata": {},
   "source": [
    "# Tags\n",
    "\n",
    "### Q&A?\n",
    "\n",
    "A tag is a keyword or label that categorizes your question with other, similar questions. Using the right tags makes it easier for others to find and answer your question. "
   ]
  },
  {
   "cell_type": "markdown",
   "metadata": {},
   "source": [
    "<div class=\"alert alert-block alert-warning\">\n",
    "    <br>\n",
    "Following are official URLs for stackoverflow\n",
    "\n",
    "        \n",
    "## References:\n",
    "\n",
    "- https://stackoverflow.com/tags\n",
    "- https://api.stackexchange.com/docs\n",
    "    \n",
    "    \n",
    "    \n",
    "</div>\n",
    "\n",
    "\n",
    "<hr style=\"border:5px solid orange\"> </hr>"
   ]
  },
  {
   "cell_type": "markdown",
   "metadata": {},
   "source": [
    "<br><br><br><br>\n",
    "\n",
    "# How to find Stackoverflow Questions and answeres?\n",
    "\n",
    "<br><br>\n",
    "\n",
    "### Questions/Answers For different tags Docker, Kubernetes, Python, GoLang, Angular,  React, etc.\n",
    "\n",
    "\n",
    "\n",
    "<hr style=\"border:5px solid orange\"> </hr>\n"
   ]
  },
  {
   "cell_type": "markdown",
   "metadata": {},
   "source": [
    "Create an environment for Python 3.9:\n",
    "\n",
    "To install python 3.9 on your PC you will need to run the following command in your terminal:\n",
    "\n",
    "\n",
    "conda create -n py39 python=3.9\n",
    "\n",
    "\n",
    "This will create a new environment from which you can open your jupyter notebook. To verify if the right version of python is installed on your conda, open the Anaconda-navigator (this would have been installed once you finish installing anaconda in Step 1).\n",
    "\n",
    "Once you open the Anaconda Navigator, click on the Environments tab on the Left navigation bar and check if it has two environments installed:\n",
    "\n",
    "1.\tThe base or the root environment where Python 3.9 is installed\n",
    "2.\tThe py39 environment where we will be running our code\n",
    "3.  Open a terminal from the py39 tab\n",
    "\n",
    "Step 3: Install dependencies:\n",
    "\n",
    "The following pip commands needs to execute to install all the dependencies needed by out notebook. Type the following commands in the terminal one after another:\n",
    "\n",
    "1.\tpip install jupyter\n",
    "once installed proceed to execute the next line\n",
    "\n",
    "3.\tpip install stackapi\n",
    "once installed proceed to execute the next line\n",
    "\n",
    "4.\tpip install stackpy\n",
    "once installed proceed to execute the next line\n",
    "\n",
    "5.\tpip install pandas\n",
    "once installed proceed to execute the next line\n",
    "\n",
    "7.\tpip install matplotlib --default-timeout=100 future\n",
    "once installed proceed to execute the next line\n",
    "\n",
    "8.\tpip install datetime\n",
    "once installed proceed to execute the next line\n",
    "\n"
   ]
  },
  {
   "cell_type": "code",
   "execution_count": 1,
   "metadata": {
    "colab": {
     "base_uri": "https://localhost:8080/"
    },
    "id": "pwZ011cxq7tM",
    "outputId": "f8dc5813-1e96-4940-8a56-9cc8be8b4572"
   },
   "outputs": [],
   "source": [
    "# Installation of required libraries using pip. PIP is a package manager for Python packages, or modules.\n",
    "# !pip install jupyter\n",
    "# !pip install stackapi\n",
    "# !pip install stackpy\n",
    "# !pip install pandas\n",
    "# !pip install sklearn\n",
    "# !pip install matplotlib --default-timeout=100 future\n",
    "# !pip install datetime"
   ]
  },
  {
   "cell_type": "code",
   "execution_count": 2,
   "metadata": {
    "id": "dn9jVr-xq1N4"
   },
   "outputs": [
    {
     "ename": "ModuleNotFoundError",
     "evalue": "No module named 'stackapi'",
     "output_type": "error",
     "traceback": [
      "\u001b[1;31m---------------------------------------------------------------------------\u001b[0m",
      "\u001b[1;31mModuleNotFoundError\u001b[0m                       Traceback (most recent call last)",
      "Cell \u001b[1;32mIn[2], line 4\u001b[0m\n\u001b[0;32m      2\u001b[0m \u001b[38;5;28;01mimport\u001b[39;00m \u001b[38;5;21;01mpandas\u001b[39;00m \u001b[38;5;28;01mas\u001b[39;00m \u001b[38;5;21;01mpd\u001b[39;00m\n\u001b[0;32m      3\u001b[0m \u001b[38;5;28;01mimport\u001b[39;00m \u001b[38;5;21;01mnumpy\u001b[39;00m \u001b[38;5;28;01mas\u001b[39;00m \u001b[38;5;21;01mnp\u001b[39;00m\n\u001b[1;32m----> 4\u001b[0m \u001b[38;5;28;01mfrom\u001b[39;00m \u001b[38;5;21;01mstackapi\u001b[39;00m \u001b[38;5;28;01mimport\u001b[39;00m StackAPI\n\u001b[0;32m      5\u001b[0m \u001b[38;5;28;01mfrom\u001b[39;00m \u001b[38;5;21;01mdateutil\u001b[39;00m\u001b[38;5;21;01m.\u001b[39;00m\u001b[38;5;21;01mrelativedelta\u001b[39;00m \u001b[38;5;28;01mimport\u001b[39;00m relativedelta\n\u001b[0;32m      6\u001b[0m \u001b[38;5;28;01mimport\u001b[39;00m \u001b[38;5;21;01mdatetime\u001b[39;00m\n",
      "\u001b[1;31mModuleNotFoundError\u001b[0m: No module named 'stackapi'"
     ]
    }
   ],
   "source": [
    "# Import all the required packages\n",
    "import pandas as pd\n",
    "import numpy as np\n",
    "from stackapi import StackAPI\n",
    "from dateutil.relativedelta import relativedelta\n",
    "import datetime\n",
    "import numpy as np\n",
    "import time\n",
    "from datetime import timedelta\n",
    "from datetime import datetime\n",
    "import json\n",
    "import requests\n",
    "\n",
    "\n",
    "# matplotlib for plotting graphs\n",
    "import matplotlib.pyplot as plt\n",
    "import matplotlib.dates as mdates\n",
    "\n",
    "import warnings\n",
    "\n",
    "deprecation._PRINT_DEPRECATION_WARNINGS = False\n",
    "warnings.filterwarnings('ignore')"
   ]
  },
  {
   "cell_type": "markdown",
   "metadata": {},
   "source": [
    "# Pull past-year data from stackexchange api"
   ]
  },
  {
   "cell_type": "markdown",
   "metadata": {},
   "source": [
    "<!-- # # \n",
    "# today = datetime.today()\n",
    "# one_year = str(int(datetime.timestamp(today - relativedelta(years=1))))\n",
    "# today = str(int(datetime.timestamp(today)))\n",
    "# questions_data = []\n",
    "\n",
    "# tagged = 'docker'\n",
    "# page = 1\n",
    "# question = requests.get('https://api.stackexchange.com/2.3/questions?page=' + str(page) + '&fromdate=' + one_year + '&todate=' + today + '&order=desc&sort=activity&tagged=' + tagged + '&site=stackoverflow')\n",
    "# questions = json.loads(question.text)\n",
    "# if \"items\" in questions:\n",
    "#     questions_data += questions['items']\n",
    "# while 'has_more' in questions and questions['has_more']:\n",
    "#     time.sleep(3)\n",
    "#     page += 1\n",
    "#     question = requests.get('https://api.stackexchange.com/2.3/questions?page=' + str(page) + '&fromdate=' + one_year + '&todate=' + today + '&order=desc&sort=activity&tagged=' + tagged + '&site=stackoverflow')\n",
    "#     questions = json.loads(question.text)\n",
    "#     if \"items\" in questions:\n",
    "#         questions_data += questions['items']\n",
    "    \n",
    "# tagged = 'kubernetes'\n",
    "# page = 1\n",
    "# question = requests.get('https://api.stackexchange.com/2.3/questions?page=' + str(page) + '&fromdate=' + one_year + '&todate=' + today + '&order=desc&sort=activity&tagged=' + tagged + '&site=stackoverflow')\n",
    "# questions = json.loads(question.text)\n",
    "# if \"items\" in questions:\n",
    "#     questions_data += questions['items']\n",
    "# while 'has_more' in questions and questions['has_more']:\n",
    "#     time.sleep(3)\n",
    "#     page += 1\n",
    "#     question = requests.get('https://api.stackexchange.com/2.3/questions?page=' + str(page) + '&fromdate=' + one_year + '&todate=' + today + '&order=desc&sort=activity&tagged=' + tagged + '&site=stackoverflow')\n",
    "#     questions = json.loads(question.text)\n",
    "#     if \"items\" in questions:\n",
    "#         questions_data += questions['items']\n",
    "    \n",
    "# tagged = 'python'\n",
    "# page = 1\n",
    "# question = requests.get('https://api.stackexchange.com/2.3/questions?page=' + str(page) + '&fromdate=' + one_year + '&todate=' + today + '&order=desc&sort=activity&tagged=' + tagged + '&site=stackoverflow')\n",
    "# questions = json.loads(question.text)\n",
    "# if \"items\" in questions:\n",
    "#     questions_data += questions['items']\n",
    "# while 'has_more' in questions and questions['has_more']:\n",
    "#     time.sleep(3)\n",
    "#     page += 1\n",
    "#     question = requests.get('https://api.stackexchange.com/2.3/questions?page=' + str(page) + '&fromdate=' + one_year + '&todate=' + today + '&order=desc&sort=activity&tagged=' + tagged + '&site=stackoverflow')\n",
    "#     questions = json.loads(question.text)\n",
    "#     if \"items\" in questions:\n",
    "#         questions_data += questions['items']\n",
    "    \n",
    "# tagged = 'golang'\n",
    "# page = 1\n",
    "# question = requests.get('https://api.stackexchange.com/2.3/questions?page=' + str(page) + '&fromdate=' + one_year + '&todate=' + today + '&order=desc&sort=activity&tagged=' + tagged + '&site=stackoverflow')\n",
    "# questions = json.loads(question.text)\n",
    "# if \"items\" in questions:\n",
    "#     questions_data += questions['items']\n",
    "# while 'has_more' in questions and questions['has_more']:\n",
    "#     time.sleep(3)\n",
    "#     page += 1\n",
    "#     question = requests.get('https://api.stackexchange.com/2.3/questions?page=' + str(page) + '&fromdate=' + one_year + '&todate=' + today + '&order=desc&sort=activity&tagged=' + tagged + '&site=stackoverflow')\n",
    "#     questions = json.loads(question.text)\n",
    "#     if \"items\" in questions:\n",
    "#         questions_data += questions['items']    \n",
    "# tagged = 'angular'\n",
    "# page = 1\n",
    "# question = requests.get('https://api.stackexchange.com/2.3/questions?page=' + str(page) + '&fromdate=' + one_year + '&todate=' + today + '&order=desc&sort=activity&tagged=' + tagged + '&site=stackoverflow')\n",
    "# questions = json.loads(question.text)\n",
    "# if \"items\" in questions:\n",
    "#     questions_data += questions['items']\n",
    "# while 'has_more' in questions and questions['has_more']:\n",
    "#     time.sleep(3)\n",
    "#     page += 1\n",
    "#     question = requests.get('https://api.stackexchange.com/2.3/questions?page=' + str(page) + '&fromdate=' + one_year + '&todate=' + today + '&order=desc&sort=activity&tagged=' + tagged + '&site=stackoverflow')\n",
    "#     questions = json.loads(question.text)\n",
    "#     if \"items\" in questions:\n",
    "#         questions_data += questions['items']\n",
    "    \n",
    "# tagged = 'react'\n",
    "# page = 1\n",
    "# question = requests.get('https://api.stackexchange.com/2.3/questions?page=' + str(page) + '&fromdate=' + one_year + '&todate=' + today + '&order=desc&sort=activity&tagged=' + tagged + '&site=stackoverflow')\n",
    "# questions = json.loads(question.text)\n",
    "# if \"items\" in questions:\n",
    "#     questions_data += questions['items']\n",
    "# while 'has_more' in questions and questions['has_more']:\n",
    "#     time.sleep(3)\n",
    "#     page += 1\n",
    "#     question = requests.get('https://api.stackexchange.com/2.3/questions?page=' + str(page) + '&fromdate=' + one_year + '&todate=' + today + '&order=desc&sort=activity&tagged=' + tagged + '&site=stackoverflow')\n",
    "#     questions = json.loads(question.text)\n",
    "#     if \"items\" in questions:\n",
    "#         questions_data += questions['items']\n",
    "\n",
    "# with open('output.txt', 'w') as filehandle:\n",
    "#     json.dump(questions_data, filehandle) -->"
   ]
  },
  {
   "cell_type": "code",
   "execution_count": null,
   "metadata": {},
   "outputs": [],
   "source": [
    "# Defining column names according to tags (keyword) found in stackoverflow questions\n",
    "df = pd.DataFrame(columns =['docker', 'kubernetes', 'python', 'golang', 'angular', 'react', 'timestamp'])\n",
    "\n",
    "docker = 0\n",
    "kubernetes = 0\n",
    "python = 0\n",
    "golang = 0\n",
    "angular = 0\n",
    "react = 0\n",
    "\n",
    "# Please generate your key from StackExchangeApi\n",
    "key = 'ADD_YOUR_API_KEY_HERE'"
   ]
  },
  {
   "cell_type": "markdown",
   "metadata": {},
   "source": [
    "## Docker"
   ]
  },
  {
   "cell_type": "code",
   "execution_count": null,
   "metadata": {},
   "outputs": [],
   "source": [
    "questions_data = []\n",
    "tagged = 'docker'\n",
    "page = 1\n",
    "fromdate = str(int(datetime.timestamp(datetime.today() - relativedelta(months=13))))\n",
    "todate = str(int(datetime.timestamp(datetime.today() - relativedelta(months=0))))\n",
    "\n",
    "question = requests.get('https://api.stackexchange.com/2.3/questions?pagesize=100&page=' + str(page) + '&sort=activity&fromdate=' + fromdate + '&todate=' + todate + '&order=desc&tagged=' + tagged + '&site=stackoverflow&key=' + key)\n",
    "questions = json.loads(question.text)\n",
    "if \"items\" in questions:\n",
    "    questions_data += questions['items']\n",
    "    \n",
    "while 'has_more' in questions and questions['has_more']:\n",
    "    if page%98 == 0:\n",
    "        time.sleep(300)\n",
    "    time.sleep(1)\n",
    "    page += 1\n",
    "    question = requests.get('https://api.stackexchange.com/2.3/questions?pagesize=100&page=' + str(page) + '&sort=activity&fromdate=' + fromdate + '&todate=' + todate + '&order=desc&tagged=' + tagged + '&site=stackoverflow&key=' + key)\n",
    "    questions = json.loads(question.text)\n",
    "    if \"items\" in questions:\n",
    "        questions_data += questions['items']\n",
    "        \n",
    "for question in questions_data:\n",
    "    docker = docker + 1\n",
    "    df2 = pd.DataFrame({'docker': [1], 'timestamp' : [question['creation_date']]})\n",
    "    df = pd.concat([df, df2], ignore_index = True, axis = 0)"
   ]
  },
  {
   "cell_type": "code",
   "execution_count": null,
   "metadata": {},
   "outputs": [],
   "source": [
    "questions"
   ]
  },
  {
   "cell_type": "code",
   "execution_count": null,
   "metadata": {},
   "outputs": [],
   "source": []
  }
 ],
 "metadata": {
  "colab": {
   "collapsed_sections": [],
   "name": "StackOverFlow_Forcaster.ipynb",
   "provenance": []
  },
  "kernelspec": {
   "display_name": "Python 3 (ipykernel)",
   "language": "python",
   "name": "python3"
  },
  "language_info": {
   "codemirror_mode": {
    "name": "ipython",
    "version": 3
   },
   "file_extension": ".py",
   "mimetype": "text/x-python",
   "name": "python",
   "nbconvert_exporter": "python",
   "pygments_lexer": "ipython3",
   "version": "3.10.9"
  }
 },
 "nbformat": 4,
 "nbformat_minor": 1
}
